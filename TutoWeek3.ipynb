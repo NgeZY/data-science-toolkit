{
  "nbformat": 4,
  "nbformat_minor": 0,
  "metadata": {
    "colab": {
      "provenance": [],
      "mount_file_id": "1cBbFgAGjQWF600Oyj26J8f1xqnBT_tYA",
      "authorship_tag": "ABX9TyOdNg98d6OpCCKvvTeZ33Fe",
      "include_colab_link": true
    },
    "kernelspec": {
      "name": "python3",
      "display_name": "Python 3"
    },
    "language_info": {
      "name": "python"
    }
  },
  "cells": [
    {
      "cell_type": "markdown",
      "metadata": {
        "id": "view-in-github",
        "colab_type": "text"
      },
      "source": [
        "<a href=\"https://colab.research.google.com/github/NgeZY/data-science-toolkit/blob/main/TutoWeek3.ipynb\" target=\"_parent\"><img src=\"https://colab.research.google.com/assets/colab-badge.svg\" alt=\"Open In Colab\"/></a>"
      ]
    },
    {
      "cell_type": "code",
      "execution_count": null,
      "metadata": {
        "id": "dvZWcv72XFlo"
      },
      "outputs": [],
      "source": [
        "import pandas as pd\n",
        "import numpy as np"
      ]
    },
    {
      "cell_type": "code",
      "source": [
        "arr1 = np.array([[1,2],[3,4]])\n",
        "print(arr1)"
      ],
      "metadata": {
        "colab": {
          "base_uri": "https://localhost:8080/"
        },
        "id": "reaEFrhRnVNn",
        "outputId": "37c5a94b-ee89-4491-ff91-6a0e927e0f45"
      },
      "execution_count": null,
      "outputs": [
        {
          "output_type": "stream",
          "name": "stdout",
          "text": [
            "[[1 2]\n",
            " [3 4]]\n"
          ]
        }
      ]
    },
    {
      "cell_type": "code",
      "source": [
        "arr2 = np.random.randint(1,10,(3,4))\n",
        "print(arr2)"
      ],
      "metadata": {
        "colab": {
          "base_uri": "https://localhost:8080/"
        },
        "id": "kb6q6opmoTfx",
        "outputId": "50a0bcc5-8b0c-4cf8-c4a7-235a5d3b6399"
      },
      "execution_count": null,
      "outputs": [
        {
          "output_type": "stream",
          "name": "stdout",
          "text": [
            "[[5 9 3 1]\n",
            " [2 7 5 3]\n",
            " [5 9 8 8]]\n"
          ]
        }
      ]
    },
    {
      "cell_type": "code",
      "source": [
        "arr3 = np.ones((2,3))\n",
        "arr4 = np.zeros((2,3))\n",
        "print(arr3)\n",
        "print(arr4)"
      ],
      "metadata": {
        "colab": {
          "base_uri": "https://localhost:8080/"
        },
        "id": "B0N_Q42OpIcA",
        "outputId": "b664cbd3-9996-4791-8a86-f8b5389554e6"
      },
      "execution_count": null,
      "outputs": [
        {
          "output_type": "stream",
          "name": "stdout",
          "text": [
            "[[1. 1. 1.]\n",
            " [1. 1. 1.]]\n",
            "[[0. 0. 0.]\n",
            " [0. 0. 0.]]\n"
          ]
        }
      ]
    },
    {
      "cell_type": "code",
      "source": [
        "arr5 = np.random.randint(1,100,(6,3))\n",
        "arr5_T = arr5.T\n",
        "print(arr5)\n",
        "print(arr5_T)"
      ],
      "metadata": {
        "colab": {
          "base_uri": "https://localhost:8080/"
        },
        "id": "lunvz2lVpivW",
        "outputId": "12516759-ea7a-4427-a5aa-4fc26bb8af1a"
      },
      "execution_count": null,
      "outputs": [
        {
          "output_type": "stream",
          "name": "stdout",
          "text": [
            "[[66 58 30]\n",
            " [ 1 42 61]\n",
            " [32 38 22]\n",
            " [89 82 53]\n",
            " [ 2 99 47]\n",
            " [45 10 18]]\n",
            "[[66  1 32 89  2 45]\n",
            " [58 42 38 82 99 10]\n",
            " [30 61 22 53 47 18]]\n"
          ]
        }
      ]
    },
    {
      "cell_type": "code",
      "source": [
        "n,p,m = np.random.randint(2,5,size=3)\n",
        "arr6 = np.random.randint(1,10,(n,p))\n",
        "arr7 = np.random.randint(1,10,(p,m))\n",
        "arr8 = arr6@arr7\n",
        "print(arr8)"
      ],
      "metadata": {
        "colab": {
          "base_uri": "https://localhost:8080/"
        },
        "id": "WWOOm6d_p4yU",
        "outputId": "d8d3ebff-623d-4672-9cad-c609317d5193"
      },
      "execution_count": null,
      "outputs": [
        {
          "output_type": "stream",
          "name": "stdout",
          "text": [
            "[[55 20 50 50]\n",
            " [77 28 70 70]\n",
            " [37 13 33 31]\n",
            " [62 23 57 59]]\n"
          ]
        }
      ]
    }
  ]
}